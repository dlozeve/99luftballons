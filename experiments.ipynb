{
 "cells": [
  {
   "cell_type": "code",
   "execution_count": 11,
   "metadata": {
    "collapsed": true
   },
   "outputs": [],
   "source": [
    "import pandas as pd\n",
    "import numpy as np\n",
    "import numpy.random\n",
    "import os\n",
    "import gc\n",
    "import h5py\n",
    "from collections import deque\n",
    "import cv2\n",
    "\n",
    "import sklearn\n",
    "from sklearn.decomposition import PCA\n",
    "from sklearn.linear_model import LogisticRegression\n",
    "from sklearn.ensemble import RandomForestClassifier\n",
    "from sklearn.neighbors import KNeighborsClassifier\n",
    "from sklearn.svm import SVC\n",
    "from sklearn.metrics import confusion_matrix, roc_curve, auc\n",
    "\n",
    "from xgboost import XGBClassifier\n",
    "\n",
    "import matplotlib.pyplot as plt\n",
    "import seaborn as sns\n",
    "from matplotlib import animation\n",
    "\n",
    "%matplotlib inline"
   ]
  },
  {
   "cell_type": "markdown",
   "metadata": {},
   "source": [
    "## Load data"
   ]
  },
  {
   "cell_type": "code",
   "execution_count": 2,
   "metadata": {
    "collapsed": true
   },
   "outputs": [],
   "source": [
    "citydata = pd.read_csv('Data/CityData.csv')"
   ]
  },
  {
   "cell_type": "code",
   "execution_count": 3,
   "metadata": {
    "scrolled": false
   },
   "outputs": [
    {
     "data": {
      "text/html": [
       "<div>\n",
       "<style scoped>\n",
       "    .dataframe tbody tr th:only-of-type {\n",
       "        vertical-align: middle;\n",
       "    }\n",
       "\n",
       "    .dataframe tbody tr th {\n",
       "        vertical-align: top;\n",
       "    }\n",
       "\n",
       "    .dataframe thead th {\n",
       "        text-align: right;\n",
       "    }\n",
       "</style>\n",
       "<table border=\"1\" class=\"dataframe\">\n",
       "  <thead>\n",
       "    <tr style=\"text-align: right;\">\n",
       "      <th></th>\n",
       "      <th>cid</th>\n",
       "      <th>xid</th>\n",
       "      <th>yid</th>\n",
       "    </tr>\n",
       "  </thead>\n",
       "  <tbody>\n",
       "    <tr>\n",
       "      <th>0</th>\n",
       "      <td>0</td>\n",
       "      <td>142</td>\n",
       "      <td>328</td>\n",
       "    </tr>\n",
       "    <tr>\n",
       "      <th>1</th>\n",
       "      <td>1</td>\n",
       "      <td>84</td>\n",
       "      <td>203</td>\n",
       "    </tr>\n",
       "    <tr>\n",
       "      <th>2</th>\n",
       "      <td>2</td>\n",
       "      <td>199</td>\n",
       "      <td>371</td>\n",
       "    </tr>\n",
       "    <tr>\n",
       "      <th>3</th>\n",
       "      <td>3</td>\n",
       "      <td>140</td>\n",
       "      <td>234</td>\n",
       "    </tr>\n",
       "    <tr>\n",
       "      <th>4</th>\n",
       "      <td>4</td>\n",
       "      <td>236</td>\n",
       "      <td>241</td>\n",
       "    </tr>\n",
       "    <tr>\n",
       "      <th>5</th>\n",
       "      <td>5</td>\n",
       "      <td>315</td>\n",
       "      <td>281</td>\n",
       "    </tr>\n",
       "    <tr>\n",
       "      <th>6</th>\n",
       "      <td>6</td>\n",
       "      <td>358</td>\n",
       "      <td>207</td>\n",
       "    </tr>\n",
       "    <tr>\n",
       "      <th>7</th>\n",
       "      <td>7</td>\n",
       "      <td>363</td>\n",
       "      <td>237</td>\n",
       "    </tr>\n",
       "    <tr>\n",
       "      <th>8</th>\n",
       "      <td>8</td>\n",
       "      <td>423</td>\n",
       "      <td>266</td>\n",
       "    </tr>\n",
       "    <tr>\n",
       "      <th>9</th>\n",
       "      <td>9</td>\n",
       "      <td>125</td>\n",
       "      <td>375</td>\n",
       "    </tr>\n",
       "    <tr>\n",
       "      <th>10</th>\n",
       "      <td>10</td>\n",
       "      <td>189</td>\n",
       "      <td>274</td>\n",
       "    </tr>\n",
       "  </tbody>\n",
       "</table>\n",
       "</div>"
      ],
      "text/plain": [
       "    cid  xid  yid\n",
       "0     0  142  328\n",
       "1     1   84  203\n",
       "2     2  199  371\n",
       "3     3  140  234\n",
       "4     4  236  241\n",
       "5     5  315  281\n",
       "6     6  358  207\n",
       "7     7  363  237\n",
       "8     8  423  266\n",
       "9     9  125  375\n",
       "10   10  189  274"
      ]
     },
     "execution_count": 3,
     "metadata": {},
     "output_type": "execute_result"
    }
   ],
   "source": [
    "citydata"
   ]
  },
  {
   "cell_type": "markdown",
   "metadata": {},
   "source": [
    "Axes: Days / Hours / Models / x / y"
   ]
  },
  {
   "cell_type": "code",
   "execution_count": 4,
   "metadata": {
    "collapsed": true
   },
   "outputs": [],
   "source": [
    "# read h5 format back to numpy array\n",
    "# For file creation cf Hackathon tutorial notebook\n",
    "h5f = h5py.File('Data/METdata.h5', 'r')\n",
    "train = h5f['train'][:]\n",
    "test = h5f['test'][:]\n",
    "h5f.close()"
   ]
  },
  {
   "cell_type": "code",
   "execution_count": 5,
   "metadata": {},
   "outputs": [
    {
     "data": {
      "text/plain": [
       "((5, 18, 11, 548, 421), (5, 18, 10, 548, 421))"
      ]
     },
     "execution_count": 5,
     "metadata": {},
     "output_type": "execute_result"
    }
   ],
   "source": [
    "train.shape, test.shape"
   ]
  },
  {
   "cell_type": "markdown",
   "metadata": {},
   "source": [
    "# Data preparation"
   ]
  },
  {
   "cell_type": "code",
   "execution_count": 6,
   "metadata": {
    "collapsed": true
   },
   "outputs": [],
   "source": [
    "nTrainDays = 5\n",
    "nValidationDays = 0\n",
    "\n",
    "useModels = [0,1,2,3,4,5] "
   ]
  },
  {
   "cell_type": "code",
   "execution_count": 7,
   "metadata": {},
   "outputs": [
    {
     "ename": "IndexError",
     "evalue": "index 5 is out of bounds for axis 0 with size 5",
     "output_type": "error",
     "traceback": [
      "\u001b[0;31m---------------------------------------------------------------------------\u001b[0m",
      "\u001b[0;31mIndexError\u001b[0m                                Traceback (most recent call last)",
      "\u001b[0;32m<ipython-input-7-0ceb96b07168>\u001b[0m in \u001b[0;36m<module>\u001b[0;34m()\u001b[0m\n\u001b[1;32m      1\u001b[0m \u001b[0mplt\u001b[0m\u001b[0;34m.\u001b[0m\u001b[0mfigure\u001b[0m\u001b[0;34m(\u001b[0m\u001b[0mfigsize\u001b[0m\u001b[0;34m=\u001b[0m\u001b[0;34m(\u001b[0m\u001b[0;36m20\u001b[0m\u001b[0;34m,\u001b[0m\u001b[0;36m10\u001b[0m\u001b[0;34m)\u001b[0m\u001b[0;34m)\u001b[0m\u001b[0;34m\u001b[0m\u001b[0m\n\u001b[0;32m----> 2\u001b[0;31m \u001b[0mplt\u001b[0m\u001b[0;34m.\u001b[0m\u001b[0mimshow\u001b[0m\u001b[0;34m(\u001b[0m\u001b[0mtrain\u001b[0m\u001b[0;34m[\u001b[0m\u001b[0mnTrainDays\u001b[0m\u001b[0;34m,\u001b[0m\u001b[0;36m0\u001b[0m\u001b[0;34m,\u001b[0m\u001b[0;36m10\u001b[0m\u001b[0;34m,\u001b[0m\u001b[0;34m:\u001b[0m\u001b[0;34m,\u001b[0m\u001b[0;34m:\u001b[0m\u001b[0;34m]\u001b[0m\u001b[0;34m.\u001b[0m\u001b[0mT\u001b[0m\u001b[0;34m>\u001b[0m\u001b[0;36m15\u001b[0m\u001b[0;34m)\u001b[0m\u001b[0;34m\u001b[0m\u001b[0m\n\u001b[0m\u001b[1;32m      3\u001b[0m \u001b[0mplt\u001b[0m\u001b[0;34m.\u001b[0m\u001b[0msavefig\u001b[0m\u001b[0;34m(\u001b[0m\u001b[0;34m'true.png'\u001b[0m\u001b[0;34m)\u001b[0m\u001b[0;34m\u001b[0m\u001b[0m\n",
      "\u001b[0;31mIndexError\u001b[0m: index 5 is out of bounds for axis 0 with size 5"
     ]
    },
    {
     "data": {
      "text/plain": [
       "<matplotlib.figure.Figure at 0x7fd61c20f940>"
      ]
     },
     "metadata": {},
     "output_type": "display_data"
    }
   ],
   "source": [
    "plt.figure(figsize=(20,10))\n",
    "plt.imshow(train[nTrainDays,0,10,:,:].T>15)\n",
    "plt.savefig('true.png')"
   ]
  },
  {
   "cell_type": "code",
   "execution_count": null,
   "metadata": {
    "collapsed": true
   },
   "outputs": [],
   "source": [
    "trainData = train[:nTrainDays,:,useModels+[10],:,:]\n",
    "trainData = np.rollaxis(trainData,2,5)\n",
    "trainData = trainData.reshape(-1,trainData.shape[-1])\n",
    "x_train = trainData[:,0:-1]\n",
    "y_train = trainData[:,-1]\n",
    "\n",
    "valData = train[nTrainDays:(nValidationDays+nTrainDays),:,useModels+[10],:,:]\n",
    "valData = np.rollaxis(valData,2,5)\n",
    "valData = valData.reshape(-1,trainData.shape[-1])\n",
    "x_val = valData[:,0:-1]\n",
    "y_val = valData[:,-1]\n",
    "\n",
    "print(x_train.shape, x_val.shape, y_train.shape, y_val.shape)\n",
    "\n",
    "del train, trainData, valData"
   ]
  },
  {
   "cell_type": "code",
   "execution_count": null,
   "metadata": {
    "collapsed": true
   },
   "outputs": [],
   "source": [
    "gc.collect()"
   ]
  },
  {
   "cell_type": "markdown",
   "metadata": {},
   "source": [
    "## Prediction"
   ]
  },
  {
   "cell_type": "code",
   "execution_count": null,
   "metadata": {
    "collapsed": true
   },
   "outputs": [],
   "source": [
    "#model = LogisticRegression()\n",
    "model = XGBClassifier(n_estimators=100)\n",
    "#model = SVC(kernel='linear', verbose=True, max_iter=50, probability=True)\n",
    "#model = KNeighborsClassifier(n_neighbors=10, n_jobs=3) # Very good results but very noisy\n",
    "\n",
    "thresh = 0.5"
   ]
  },
  {
   "cell_type": "code",
   "execution_count": null,
   "metadata": {
    "collapsed": true,
    "scrolled": true
   },
   "outputs": [],
   "source": [
    "#red = PCA(3)\n",
    "#red.fit(x_train)\n",
    "#x_train = red.transform(x_train)\n",
    "#x_val = red.transform(x_val)"
   ]
  },
  {
   "cell_type": "code",
   "execution_count": null,
   "metadata": {
    "collapsed": true
   },
   "outputs": [],
   "source": [
    "#print(red.explained_variance_ratio_)\n",
    "#del red"
   ]
  },
  {
   "cell_type": "code",
   "execution_count": null,
   "metadata": {
    "collapsed": true
   },
   "outputs": [],
   "source": [
    "y_train"
   ]
  },
  {
   "cell_type": "code",
   "execution_count": null,
   "metadata": {
    "collapsed": true
   },
   "outputs": [],
   "source": [
    "model.fit(x_train, y_train>15)"
   ]
  },
  {
   "cell_type": "code",
   "execution_count": null,
   "metadata": {
    "collapsed": true
   },
   "outputs": [],
   "source": [
    "pred_val = model.predict_proba(x_val)[:,1]\n",
    "pred_train = model.predict_proba(x_train)[:,1]"
   ]
  },
  {
   "cell_type": "code",
   "execution_count": null,
   "metadata": {
    "collapsed": true
   },
   "outputs": [],
   "source": [
    "fpr, tpr, _ = roc_curve(y_val>15, pred_val)\n",
    "roc_auc = auc(fpr, tpr)\n",
    "plt.figure()\n",
    "lw = 2\n",
    "plt.plot(fpr, tpr, color='darkorange',\n",
    "         lw=lw, label='ROC curve (area = %0.2f)' % roc_auc)\n",
    "plt.plot([0, 1], [0, 1], color='navy', lw=lw, linestyle='--')\n",
    "plt.xlim([0.0, 1.0])\n",
    "plt.ylim([0.0, 1.05])\n",
    "plt.xlabel('False Positive Rate')\n",
    "plt.ylabel('True Positive Rate')\n",
    "plt.title('Receiver operating characteristic')\n",
    "plt.legend(loc=\"lower right\")\n",
    "plt.show()"
   ]
  },
  {
   "cell_type": "code",
   "execution_count": null,
   "metadata": {
    "collapsed": true
   },
   "outputs": [],
   "source": [
    "#pred_val = np.amax(x_val, axis=1)\n",
    "#pred_train = np.amax(x_train, axis=1)"
   ]
  },
  {
   "cell_type": "code",
   "execution_count": null,
   "metadata": {
    "collapsed": true
   },
   "outputs": [],
   "source": [
    "pred_val.shape, pred_train.shape"
   ]
  },
  {
   "cell_type": "code",
   "execution_count": null,
   "metadata": {
    "collapsed": true
   },
   "outputs": [],
   "source": [
    "indices = np.random.choice(pred_train.shape[0], 5000)"
   ]
  },
  {
   "cell_type": "code",
   "execution_count": null,
   "metadata": {
    "collapsed": true,
    "scrolled": true
   },
   "outputs": [],
   "source": [
    "fig, (ax1,ax2) = plt.subplots(ncols=2, figsize=(10,5), sharex=True, sharey=True)\n",
    "\n",
    "ax1.scatter(pred_train[indices], y_train[indices])\n",
    "ax2.scatter(pred_val[indices], y_val[indices])\n",
    "\n",
    "ax1.axhline(15, color='r')\n",
    "ax2.axhline(15, color='r')\n",
    "\n",
    "ax1.axvline(thresh, color='r')\n",
    "ax2.axvline(thresh, color='r')\n",
    "\n",
    "ax1.set_xlabel('Predicted probability (training data)')\n",
    "ax2.set_xlabel('Predicted probability (validation data)')\n",
    "\n",
    "ax1.set_ylabel('Actual wind speed')\n",
    "\n",
    "ax1.text(0.25,5, 'TN', color='r', size=30,horizontalalignment='center')\n",
    "ax1.text(0.25,25, 'FN', color='r', size=30,horizontalalignment='center')\n",
    "ax1.text(0.75,25, 'TP', color='r', size=30,horizontalalignment='center')\n",
    "ax1.text(0.75,5, 'FP', color='r', size=30,horizontalalignment='center')"
   ]
  },
  {
   "cell_type": "code",
   "execution_count": null,
   "metadata": {
    "collapsed": true
   },
   "outputs": [],
   "source": [
    "tn, fp, fn, tp = confusion_matrix(y_val>=15, pred_val>0.5).ravel()\n",
    "fn/pred_val.shape[0]"
   ]
  },
  {
   "cell_type": "code",
   "execution_count": null,
   "metadata": {
    "collapsed": true
   },
   "outputs": [],
   "source": [
    "tp,fp,fn,tp"
   ]
  },
  {
   "cell_type": "code",
   "execution_count": null,
   "metadata": {
    "collapsed": true
   },
   "outputs": [],
   "source": []
  },
  {
   "cell_type": "code",
   "execution_count": null,
   "metadata": {
    "collapsed": true
   },
   "outputs": [],
   "source": [
    "predMatrix = pred_val.reshape(nValidationDays,18,548,421,1)\n",
    "trueMatrix = y_val.reshape(nValidationDays,18,548,421)"
   ]
  },
  {
   "cell_type": "code",
   "execution_count": null,
   "metadata": {
    "collapsed": true
   },
   "outputs": [],
   "source": [
    "trueMatrix.shape"
   ]
  },
  {
   "cell_type": "code",
   "execution_count": null,
   "metadata": {
    "collapsed": true
   },
   "outputs": [],
   "source": [
    "fig, ax = plt.subplots(figsize=(20,10))\n",
    "ax.imshow(np.logical_xor(trueMatrix[0, 0, :, :].T > 15, predMatrix[0, 0, :, :, 0].T > thresh))\n",
    "ax.set_xlabel('Yellow: wrong prediction, purple: right prediction')"
   ]
  },
  {
   "cell_type": "code",
   "execution_count": null,
   "metadata": {
    "collapsed": true
   },
   "outputs": [],
   "source": [
    "fig, (ax1,ax2) = plt.subplots(ncols=2, figsize=(20,20))\n",
    "\n",
    "ax1.imshow(trueMatrix[0,0,:,:].T>15)\n",
    "ax2.imshow(predMatrix[0,0,:,:,0].T>thresh)\n",
    "\n",
    "ax1.set_xlabel('True data')\n",
    "ax2.set_xlabel('Prediction')\n"
   ]
  },
  {
   "cell_type": "markdown",
   "metadata": {},
   "source": [
    "## Search on the graph"
   ]
  },
  {
   "cell_type": "markdown",
   "metadata": {},
   "source": [
    "### Prepare data"
   ]
  },
  {
   "cell_type": "code",
   "execution_count": null,
   "metadata": {
    "collapsed": true
   },
   "outputs": [],
   "source": [
    "max_x = 548\n",
    "mazx_y = 421"
   ]
  },
  {
   "cell_type": "code",
   "execution_count": null,
   "metadata": {
    "collapsed": true
   },
   "outputs": [],
   "source": [
    "day = 0\n",
    "predDay = predMatrix[day,:,:,:,:]\n",
    "trueDay = trueMatrix[day,:,:,:]\n",
    "predDay.shape, trueDay.shape"
   ]
  },
  {
   "cell_type": "code",
   "execution_count": null,
   "metadata": {
    "collapsed": true
   },
   "outputs": [],
   "source": [
    "start_city = 0\n",
    "start_x = citydata.iloc[start_city,1]\n",
    "start_y = citydata.iloc[start_city,2]\n",
    "start_x, start_y"
   ]
  },
  {
   "cell_type": "code",
   "execution_count": null,
   "metadata": {
    "collapsed": true
   },
   "outputs": [],
   "source": [
    "obj_city = 1\n",
    "obj_x = citydata.iloc[obj_city,1]\n",
    "obj_y = citydata.iloc[obj_city,2]\n",
    "obj_x, obj_y"
   ]
  },
  {
   "cell_type": "markdown",
   "metadata": {},
   "source": [
    "### Define BFS algorithm for search"
   ]
  },
  {
   "cell_type": "code",
   "execution_count": null,
   "metadata": {
    "collapsed": true
   },
   "outputs": [],
   "source": [
    "def BFS(grid,start, goal, block=[1],mode='pos',goalType=None, typeGrid=None):\n",
    "    res = np.zeros(grid.shape) - 1\n",
    "    res[start] = 0\n",
    "    stack = queue = deque([start])\n",
    "    found=False\n",
    "    \n",
    "    if goal[0]>=start[0]:\n",
    "        if goal[1]>=start[1]:\n",
    "            dirs = [(1,0),(0,1),(-1,0),(0,-1)]\n",
    "        else:\n",
    "            dirs= [(1,0),(0,-1),(-1,0),(0,1)]\n",
    "    else:\n",
    "        if goal[1]>=start[1]:\n",
    "            dirs = [(-1,0),(0,1),(1,0),(0,-1)]\n",
    "        else:\n",
    "            dirs=[(-1,0),(0,-1),(1,0),(0,1)]\n",
    "    while len(stack)>0 and not found:\n",
    "        new = stack.popleft()\n",
    "        for d in dirs:\n",
    "            try_new = (new[0]+d[0], new[1]+d[1])\n",
    "            if (try_new[0]>=0) and (try_new[0]<grid.shape[0]) and(try_new[1]>=0) and (try_new[1]<grid.shape[1]):\n",
    "                if grid[try_new] not in block:\n",
    "                    if res[try_new] == -1:\n",
    "                        res[try_new] = res[new] +1\n",
    "                        if mode=='pos' and try_new[0]==goal[0] and try_new[1]==goal[1]:\n",
    "                            found=True\n",
    "                            break\n",
    "                        if mode=='type' and typeGrid[try_new==goalType]:\n",
    "                            found=True\n",
    "                            break\n",
    "                        stack.append(try_new)\n",
    "                        \n",
    "    return res, found           "
   ]
  },
  {
   "cell_type": "code",
   "execution_count": null,
   "metadata": {
    "collapsed": true
   },
   "outputs": [],
   "source": [
    "def backTrackBFS(grid, start,goal, block, mode, goalType=None, typeGrid=None):\n",
    "    res, found = BFS(grid,start,goal,block, mode, goalType, typeGrid)\n",
    "    \n",
    "    if goal[0]>=start[0]:\n",
    "        if goal[1]>=start[1]:\n",
    "            dirs = [(1,0),(0,1),(-1,0),(0,-1)]\n",
    "        else:\n",
    "            dirs= [(1,0),(0,-1),(-1,0),(0,1)]\n",
    "    else:\n",
    "        if goal[1]>=start[1]:\n",
    "            dirs = [(-1,0),(0,1),(1,0),(0,-1)]\n",
    "        else:\n",
    "            dirs=[(-1,0),(0,-1),(1,0),(0,1)]\n",
    "    \n",
    "    if found:\n",
    "        posList = [goal]\n",
    "        current = goal\n",
    "        currentDist = res[current]\n",
    "    else:\n",
    "        accessibleX, accessibleY = np.where(res!=-1)\n",
    "        bestDist = 10000\n",
    "        bestPos = None\n",
    "        for i in range(accessibleX.shape[0]):\n",
    "            tryPos = (accessibleX[i], accessibleY[i])\n",
    "            dist = abs(tryPos[0]-goal[0]) + abs(tryPos[1]-goal[1])\n",
    "            if dist<bestDist:\n",
    "                bestDist=dist\n",
    "                bestPos=tryPos\n",
    "        current=bestPos\n",
    "        currentDist= res[current]\n",
    "        posList = [current]\n",
    "        \n",
    "    while currentDist != 0:\n",
    "        for d in dirs:\n",
    "            try_new = (current[0]+d[0], current[1]+d[1])\n",
    "            if (try_new[0]>=0) and (try_new[0]<grid.shape[0]) and(try_new[1]>=0) and (try_new[1]<grid.shape[1]):\n",
    "                if res[try_new] == currentDist-1:\n",
    "                    posList.append(try_new)\n",
    "                    current=try_new\n",
    "                    currentDist = currentDist-1\n",
    "                    break\n",
    "    return list(reversed(posList)), found"
   ]
  },
  {
   "cell_type": "markdown",
   "metadata": {},
   "source": [
    "### Perform search"
   ]
  },
  {
   "cell_type": "code",
   "execution_count": null,
   "metadata": {
    "collapsed": true
   },
   "outputs": [],
   "source": [
    "predDay.shape"
   ]
  },
  {
   "cell_type": "code",
   "execution_count": null,
   "metadata": {
    "collapsed": true
   },
   "outputs": [],
   "source": [
    "start = start_x, start_y\n",
    "goal = obj_x, obj_y\n",
    "\n",
    "mindless_algo_time=0\n",
    "thresh = thresh\n",
    "\n",
    "def getPath(start, goal, mindless_algo_time, predDay, thresh):\n",
    "    predDayThresh = predDay>thresh\n",
    "    pos=start\n",
    "    fullpath=[]\n",
    "    for hour in range(18):\n",
    "        print('Hour',hour)\n",
    "        currentGrid = predDayThresh[hour,:,:,0]\n",
    "        if mindless_algo_time>0:\n",
    "            if hour==17:\n",
    "                mindless_algo_time=30\n",
    "            # Move towards the city only with the data from this hour\n",
    "            path, found = backTrackBFS(currentGrid,pos,goal,[True],'pos')\n",
    "            if len(path)>mindless_algo_time:\n",
    "                path=path[:mindless_algo_time]\n",
    "            elif len(path)<mindless_algo_time:\n",
    "                path= path + [path[-1] for i in range(mindless_algo_time-len(path))]\n",
    "\n",
    "            fullpath = fullpath+path\n",
    "            pos = path[-1]\n",
    "            if pos==goal:\n",
    "                break\n",
    "            #print(len(path))\n",
    "            elapsed = len(path)\n",
    "            # Move towards the city, but counting blocking points from both this hour and the next\n",
    "            if hour==17:\n",
    "                break\n",
    "            escapeGrid = predDayThresh[hour+1,:,:,0]\n",
    "            if escapeGrid[pos]:\n",
    "                print('Escaping')\n",
    "                # In that case we will be in a turbulence in the next hour. We move towards a safe zone and resume\n",
    "                escapePath, _ = backTrackBFS(currentGrid, pos, goal, [True], 'type', goalType=False, typeGrid=escapeGrid)\n",
    "                fullpath = fullpath + escapePath\n",
    "                elapsed+= len(escapePath)\n",
    "                pos = fullpath[-1]\n",
    "                if pos==goal:\n",
    "                    break\n",
    "            if elapsed>30:\n",
    "                print(\"Boom you're dead\")\n",
    "                break\n",
    "        else:\n",
    "            elapsed=0\n",
    "            escapeGrid = predDayThresh[hour+1,:,:,0]\n",
    "        currentGrid = np.logical_and(currentGrid,escapeGrid)\n",
    "        path, found = backTrackBFS(currentGrid,pos,goal,[True],'pos')\n",
    "        #print(len(path))\n",
    "        #print('Elapsed:',elapsed)\n",
    "        if len(path)>(30-elapsed):\n",
    "            path=path[:(30-elapsed)]\n",
    "        elif len(path)<(30-elapsed):\n",
    "            print('path of length',len(path), 'filling to 30')\n",
    "            path = path + [path[-1] for i in range(30-elapsed - len(path))]\n",
    "            \n",
    "        #print(len(path))\n",
    "        fullpath = fullpath+path\n",
    "        pos = fullpath[-1]\n",
    "        if pos==goal:\n",
    "            break\n",
    "        print('full length:',len(fullpath))\n",
    "    return fullpath"
   ]
  },
  {
   "cell_type": "code",
   "execution_count": null,
   "metadata": {
    "collapsed": true
   },
   "outputs": [],
   "source": [
    "start,goal"
   ]
  },
  {
   "cell_type": "code",
   "execution_count": null,
   "metadata": {
    "collapsed": true
   },
   "outputs": [],
   "source": [
    "fullpath = getPath(start,goal, mindless_algo_time, predDay, thresh)\n",
    "fullpath"
   ]
  },
  {
   "cell_type": "code",
   "execution_count": null,
   "metadata": {
    "collapsed": true
   },
   "outputs": [],
   "source": [
    "def toHourMin(step):\n",
    "    step=step*2\n",
    "    hour = step//60\n",
    "    minute = step%60\n",
    "    return \"%02d:%02d\" % (hour,minute)\n",
    "\n",
    "toHourMin(35)"
   ]
  },
  {
   "cell_type": "code",
   "execution_count": null,
   "metadata": {
    "collapsed": true,
    "scrolled": false
   },
   "outputs": [],
   "source": [
    "def getBalloonDay(balloon, day, thresh, ret='np'):\n",
    "    \n",
    "    predDay = predMatrix[day,:,:,:,:]\n",
    "    predDay.shape\n",
    "    \n",
    "    start_city = 0\n",
    "    start_x = citydata.iloc[start_city,1]\n",
    "    start_y = citydata.iloc[start_city,2]\n",
    "    start_x, start_y\n",
    "    \n",
    "    obj_city = balloon\n",
    "    obj_x = citydata.iloc[obj_city,1]\n",
    "    obj_y = citydata.iloc[obj_city,2]\n",
    "    obj_x, obj_y\n",
    "    \n",
    "    start = start_x, start_y\n",
    "    goal = obj_x, obj_y\n",
    "\n",
    "    mindless_algo_time=15\n",
    "\n",
    "    fullpath = getPath(start,goal, mindless_algo_time, predDay, thresh)\n",
    "    #print(fullpath)\n",
    "    if ret=='np':\n",
    "        res = [(balloon,day+6,toHourMin(i),t[0],t[1]) for i,t in enumerate(fullpath)]\n",
    "        return np.array(res)\n",
    "    else:\n",
    "        return fullpath"
   ]
  },
  {
   "cell_type": "code",
   "execution_count": null,
   "metadata": {
    "collapsed": true
   },
   "outputs": [],
   "source": [
    "predDay.shape"
   ]
  },
  {
   "cell_type": "code",
   "execution_count": null,
   "metadata": {
    "collapsed": true
   },
   "outputs": [],
   "source": [
    "def showPath(start, goal, path, trueWind,i, figsize=(20,10),figax=None):\n",
    "    zipped = list(zip(*path))\n",
    "    xPath = list(zipped[0])\n",
    "    yPath = list(zipped[1])\n",
    "    if figax is None:\n",
    "        fig, ax= plt.subplots(figsize=figsize)\n",
    "    else:\n",
    "        fig,ax = figax\n",
    "        \n",
    "    ax.plot(xPath[:(30*(i+1))],yPath[:(30*(i+1))], color='green', linewidth=8)\n",
    "    ax.imshow(trueWind[i,:,:].T)\n",
    "    ax.plot(goal[0],goal[1], 'ro', markersize=20)\n",
    "    ax.plot(start[0], start[1],'bo',markersize=20)\n",
    "    \n",
    "def showFullPath(start,goal,path,trueWind):\n",
    "    fig, axs = plt.subplots(nrows=5,ncols=4, figsize=(30,24))\n",
    "    for y in range(4):\n",
    "        for x in range(5):\n",
    "            showPath(start,goal,path, trueWind,4*y+x,None, (fig,axs[x][y]))\n",
    "\n",
    "showPath(start,goal,fullpath,predDay[:,:,:,0]>15,1)\n",
    "#showFullPath(start,goal,fullpath,trueDay>15)"
   ]
  },
  {
   "cell_type": "code",
   "execution_count": null,
   "metadata": {
    "collapsed": true
   },
   "outputs": [],
   "source": [
    "fullpath[]"
   ]
  },
  {
   "cell_type": "code",
   "execution_count": null,
   "metadata": {
    "collapsed": true,
    "scrolled": true
   },
   "outputs": [],
   "source": [
    "days = []\n",
    "for day in range(5):\n",
    "    days.append(np.concatenate([getBalloonDay(i+1,day) for i in range(10)]))\n",
    "    \n",
    "day=np.concatenate(days)\n",
    "    "
   ]
  },
  {
   "cell_type": "code",
   "execution_count": null,
   "metadata": {
    "collapsed": true
   },
   "outputs": [],
   "source": [
    "predDay.shape"
   ]
  },
  {
   "cell_type": "code",
   "execution_count": null,
   "metadata": {
    "collapsed": true
   },
   "outputs": [],
   "source": [
    "predDay[0,:,:,0]"
   ]
  },
  {
   "cell_type": "code",
   "execution_count": null,
   "metadata": {
    "collapsed": true
   },
   "outputs": [],
   "source": [
    "plt.figure(figsize=(20,10))\n",
    "plt.imshow(predDay[0,:,:,0]>0.9)"
   ]
  },
  {
   "cell_type": "code",
   "execution_count": null,
   "metadata": {
    "collapsed": true
   },
   "outputs": [],
   "source": [
    "path = getBalloonDay(1,0)\n",
    "import matplotlib.animation as animation\n",
    "fig, ax = plt.subplots()\n",
    "\n",
    "def"
   ]
  },
  {
   "cell_type": "code",
   "execution_count": null,
   "metadata": {
    "collapsed": true
   },
   "outputs": [],
   "source": [
    "path"
   ]
  },
  {
   "cell_type": "code",
   "execution_count": null,
   "metadata": {
    "collapsed": true
   },
   "outputs": [],
   "source": [
    "day[:,0]=(np.array([int(x)+1 for x in day[:,0]]))"
   ]
  },
  {
   "cell_type": "code",
   "execution_count": null,
   "metadata": {
    "collapsed": true
   },
   "outputs": [],
   "source": [
    "pd.DataFrame(day).to_csv('sub.csv',header=False)"
   ]
  },
  {
   "cell_type": "code",
   "execution_count": null,
   "metadata": {
    "collapsed": true
   },
   "outputs": [],
   "source": [
    "day"
   ]
  }
 ],
 "metadata": {
  "kernelspec": {
   "display_name": "Python 3",
   "language": "python",
   "name": "python3"
  },
  "language_info": {
   "codemirror_mode": {
    "name": "ipython",
    "version": 3
   },
   "file_extension": ".py",
   "mimetype": "text/x-python",
   "name": "python",
   "nbconvert_exporter": "python",
   "pygments_lexer": "ipython3",
   "version": "3.6.4"
  }
 },
 "nbformat": 4,
 "nbformat_minor": 2
}
